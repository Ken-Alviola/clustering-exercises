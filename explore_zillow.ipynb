{
 "cells": [
  {
   "cell_type": "code",
   "execution_count": 1,
   "metadata": {
    "ExecuteTime": {
     "end_time": "2021-03-29T20:56:34.882375Z",
     "start_time": "2021-03-29T20:56:33.995972Z"
    }
   },
   "outputs": [],
   "source": [
    "import warnings\n",
    "warnings.filterwarnings(\"ignore\")\n",
    "\n",
    "import pandas as pd\n",
    "import numpy as np\n",
    "import matplotlib.pyplot as plt\n",
    "import seaborn as sns\n",
    "\n",
    "from scipy import stats\n",
    "\n",
    "#from jupyterthemes import jtplot\n",
    "#jtplot.style()\n",
    "\n",
    "from wrangle_zillow import wrangle_zillow, scale_data, split_zillow"
   ]
  },
  {
   "cell_type": "markdown",
   "metadata": {},
   "source": [
    "Sourcing the Zillow database as the data source, create a jupyter notebook named explore_zillow and do the following:\n",
    "\n",
    "1. Ask at least 5 questions about the data, keeping in mind that your target variable is logerror. e.g. Is logerror significantly different for properties in LA County vs Orange County vs Ventura County?\n",
    "\n",
    "2. Answer those questions through a mix of statistical tests and visualizations.\n",
    "\n",
    "Bonus:\n",
    "\n",
    "Compute the mean(logerror) by zipcode and the overall mean(logerror). Write a loop that will run a t-test between the overall mean and the mean for each zip code. We want to identify the zip codes where the error is significantly higher or lower than the expected error."
   ]
  },
  {
   "cell_type": "code",
   "execution_count": 2,
   "metadata": {
    "ExecuteTime": {
     "end_time": "2021-03-29T20:57:02.380166Z",
     "start_time": "2021-03-29T20:56:34.887583Z"
    }
   },
   "outputs": [
    {
     "name": "stdout",
     "output_type": "stream",
     "text": [
      "<class 'pandas.core.frame.DataFrame'>\n",
      "Int64Index: 66858 entries, 0 to 77379\n",
      "Data columns (total 26 columns):\n",
      " #   Column                        Non-Null Count  Dtype  \n",
      "---  ------                        --------------  -----  \n",
      " 0   parcelid                      66858 non-null  int64  \n",
      " 1   logerror                      66858 non-null  float64\n",
      " 2   transactiondate               66858 non-null  object \n",
      " 3   trans_date                    66858 non-null  object \n",
      " 4   bathroomcnt                   66858 non-null  float64\n",
      " 5   bedroomcnt                    66858 non-null  float64\n",
      " 6   buildingqualitytypeid         66858 non-null  float64\n",
      " 7   calculatedfinishedsquarefeet  66858 non-null  float64\n",
      " 8   fips                          66858 non-null  float64\n",
      " 9   latitude                      66858 non-null  float64\n",
      " 10  longitude                     66858 non-null  float64\n",
      " 11  lotsizesquarefeet             66858 non-null  float64\n",
      " 12  rawcensustractandblock        66858 non-null  float64\n",
      " 13  regionidcity                  66858 non-null  float64\n",
      " 14  regionidcounty                66858 non-null  float64\n",
      " 15  regionidzip                   66858 non-null  float64\n",
      " 16  roomcnt                       66858 non-null  float64\n",
      " 17  unitcnt                       66858 non-null  float64\n",
      " 18  yearbuilt                     66858 non-null  float64\n",
      " 19  structuretaxvaluedollarcnt    66858 non-null  float64\n",
      " 20  taxvaluedollarcnt             66858 non-null  float64\n",
      " 21  assessmentyear                66858 non-null  float64\n",
      " 22  landtaxvaluedollarcnt         66858 non-null  float64\n",
      " 23  taxamount                     66858 non-null  float64\n",
      " 24  heatingorsystemdesc           66858 non-null  object \n",
      " 25  county                        66858 non-null  object \n",
      "dtypes: float64(21), int64(1), object(4)\n",
      "memory usage: 13.8+ MB\n"
     ]
    }
   ],
   "source": [
    "df = wrangle_zillow()\n",
    "df.info()"
   ]
  },
  {
   "cell_type": "code",
   "execution_count": null,
   "metadata": {},
   "outputs": [],
   "source": []
  }
 ],
 "metadata": {
  "kernelspec": {
   "display_name": "Python 3",
   "language": "python",
   "name": "python3"
  },
  "language_info": {
   "codemirror_mode": {
    "name": "ipython",
    "version": 3
   },
   "file_extension": ".py",
   "mimetype": "text/x-python",
   "name": "python",
   "nbconvert_exporter": "python",
   "pygments_lexer": "ipython3",
   "version": "3.8.5"
  }
 },
 "nbformat": 4,
 "nbformat_minor": 4
}
